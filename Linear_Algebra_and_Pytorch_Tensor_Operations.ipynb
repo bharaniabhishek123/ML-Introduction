{
  "nbformat": 4,
  "nbformat_minor": 2,
  "metadata": {
    "colab": {
      "name": "Linear Algebra and Pytorch Tensor Operations.ipynb",
      "provenance": [],
      "collapsed_sections": [],
      "authorship_tag": "ABX9TyMMzXtWRvpzt7rZm15eUOUx",
      "include_colab_link": true
    },
    "kernelspec": {
      "name": "python3",
      "display_name": "Python 3.9.6 64-bit ('transformers-course': conda)"
    },
    "language_info": {
      "name": "python",
      "version": "3.9.6",
      "mimetype": "text/x-python",
      "codemirror_mode": {
        "name": "ipython",
        "version": 3
      },
      "pygments_lexer": "ipython3",
      "nbconvert_exporter": "python",
      "file_extension": ".py"
    },
    "interpreter": {
      "hash": "e32df7b3ffe560e80471709320edb12ec95b8f42943c19122eb6e93f4220ec36"
    }
  },
  "cells": [
    {
      "cell_type": "markdown",
      "source": [
        "<a href=\"https://colab.research.google.com/github/bharaniabhishek123/ML-Introduction/blob/main/Linear_Algebra_and_Pytorch_Tensor_Operations.ipynb\" target=\"_parent\"><img src=\"https://colab.research.google.com/assets/colab-badge.svg\" alt=\"Open In Colab\"/></a>"
      ],
      "metadata": {
        "id": "view-in-github",
        "colab_type": "text"
      }
    },
    {
      "cell_type": "markdown",
      "source": [
        "## Data Structure"
      ],
      "metadata": {
        "id": "kdwwASAjzpid"
      }
    },
    {
      "cell_type": "markdown",
      "source": [
        "The most important data structure in linear algebra which applies to Machine Learning is arguably the matrix, a 2-d array of numbers where each entry can be indexed via its row and column. \n",
        "\n",
        "\n",
        "We can think of an Excel spreadsheet, where you have offers from Company X and Company Y as two rows, and the columns represents some characteristic of each offer such as starting salary, bonus, or position.\n",
        "\n",
        "\n",
        "\n",
        "``` \n",
        "              Salary        Bonus            Position\n",
        "\n",
        "Google        150,000       23,000           Software Engineer\n",
        "\n",
        "Facebook      180,000       27,000           Data Scientist\n",
        "\n",
        "```\n",
        "The table format is especially suited to keep track of such data, where you can index by row and column to find, for example, Company X’s starting position. Matrices, similarly, are a multipurpose tool to hold all kinds of data, where the data we work in this book are of numerical form.\n",
        "\n",
        "\n"
      ],
      "metadata": {
        "id": "8QyL3gv0kbrF"
      }
    },
    {
      "cell_type": "markdown",
      "source": [
        "**In deep learning, matrices are often used to represent both datasets and weights in a neural network. A dataset, for example, has many individual data points with any number of associated features. These are called as Tensors.**\n"
      ],
      "metadata": {
        "id": "qv7jl7CHlpDC"
      }
    },
    {
      "cell_type": "markdown",
      "source": [
        "$X_{m,n} =\n",
        " \\begin{pmatrix}\n",
        "  x_{1,1} & x_{1,2} & \\cdots & x_{1,n} \\\\\n",
        "  X_{2,1} & x_{2,2} & \\cdots & x_{2,n} \\\\\n",
        "  \\vdots  & \\vdots  & \\ddots & \\vdots  \\\\\n",
        "  x_{m,1} & x_{m,2} & \\cdots & x_{m,n}\n",
        " \\end{pmatrix}$"
      ],
      "metadata": {
        "id": "XUsZ0L0Jlw4u"
      }
    },
    {
      "cell_type": "code",
      "execution_count": 1,
      "source": [
        "import numpy as np \n",
        "import torch "
      ],
      "outputs": [],
      "metadata": {
        "id": "JxG2RlV-mnRB"
      }
    },
    {
      "cell_type": "markdown",
      "source": [
        "## Creating a ndarray which is similar to tensor in pytorch"
      ],
      "metadata": {
        "id": "0m9Qn0CX4ORt"
      }
    },
    {
      "cell_type": "code",
      "execution_count": 2,
      "source": [
        "n_arr = np.random.rand(3,3)\n",
        "n_arr"
      ],
      "outputs": [
        {
          "output_type": "execute_result",
          "data": {
            "text/plain": [
              "array([[0.02884768, 0.24874488, 0.51055762],\n",
              "       [0.45679046, 0.00623177, 0.70721348],\n",
              "       [0.27023975, 0.01469734, 0.17936575]])"
            ]
          },
          "metadata": {},
          "execution_count": 2
        }
      ],
      "metadata": {
        "colab": {
          "base_uri": "https://localhost:8080/"
        },
        "id": "wSocoM48xyFF",
        "outputId": "f80e481b-e4cc-4e1e-d0de-e292a1b55d7a"
      }
    },
    {
      "cell_type": "markdown",
      "source": [
        "## Creating a Tensor directly from ndarray . There are number of ways to create a tensor."
      ],
      "metadata": {
        "id": "fABMwNFo4eOU"
      }
    },
    {
      "cell_type": "code",
      "execution_count": null,
      "source": [
        "py_tensor = torch.tensor(n_arr)\n",
        "py_tensor\n"
      ],
      "outputs": [
        {
          "output_type": "execute_result",
          "data": {
            "text/plain": [
              "tensor([[0.0292, 0.5040, 0.7256],\n",
              "        [0.5584, 0.9427, 0.6226],\n",
              "        [0.7161, 0.8542, 0.2058]], dtype=torch.float64)"
            ]
          },
          "metadata": {},
          "execution_count": 6
        }
      ],
      "metadata": {
        "colab": {
          "base_uri": "https://localhost:8080/"
        },
        "id": "IXVygH_cxyIC",
        "outputId": "9e80b24a-8b12-4cb3-ba43-d028e87f09cc"
      }
    },
    {
      "cell_type": "code",
      "execution_count": null,
      "source": [
        "raw_data = [[1,2,3],[4,5,6],[7,8,9]]\n",
        "py_tensor_1 = torch.tensor(raw_data)"
      ],
      "outputs": [],
      "metadata": {
        "id": "v7ChWTxI5At3"
      }
    },
    {
      "cell_type": "code",
      "execution_count": null,
      "source": [
        "py_tensor_2 = torch.ones_like(py_tensor_1)\n",
        "print(\"Tensor with all Ones : \\n {}\".format(py_tensor_2))"
      ],
      "outputs": [
        {
          "output_type": "stream",
          "name": "stdout",
          "text": [
            "Tensor with all Ones : \n",
            " tensor([[1, 1, 1],\n",
            "        [1, 1, 1],\n",
            "        [1, 1, 1]])\n"
          ]
        }
      ],
      "metadata": {
        "colab": {
          "base_uri": "https://localhost:8080/"
        },
        "id": "vdrjfPOp4t_Y",
        "outputId": "5febe1c0-c628-4c96-eace-a34bea940f17"
      }
    },
    {
      "cell_type": "code",
      "execution_count": null,
      "source": [
        "py_tensor_3 = torch.rand_like(py_tensor_1)\n",
        "print(\"Tensor with random values : \\n {}\".format(py_tensor_3))\n"
      ],
      "outputs": [
        {
          "output_type": "error",
          "ename": "RuntimeError",
          "evalue": "ignored",
          "traceback": [
            "\u001b[0;31m---------------------------------------------------------------------------\u001b[0m",
            "\u001b[0;31mRuntimeError\u001b[0m                              Traceback (most recent call last)",
            "\u001b[0;32m<ipython-input-37-4fe2436f8708>\u001b[0m in \u001b[0;36m<module>\u001b[0;34m()\u001b[0m\n\u001b[0;32m----> 1\u001b[0;31m \u001b[0mpy_tensor_3\u001b[0m \u001b[0;34m=\u001b[0m \u001b[0mtorch\u001b[0m\u001b[0;34m.\u001b[0m\u001b[0mrand_like\u001b[0m\u001b[0;34m(\u001b[0m\u001b[0mpy_tensor_1\u001b[0m\u001b[0;34m)\u001b[0m\u001b[0;34m\u001b[0m\u001b[0;34m\u001b[0m\u001b[0m\n\u001b[0m\u001b[1;32m      2\u001b[0m \u001b[0mprint\u001b[0m\u001b[0;34m(\u001b[0m\u001b[0;34m\"Tensor with random values : \\n {}\"\u001b[0m\u001b[0;34m.\u001b[0m\u001b[0mformat\u001b[0m\u001b[0;34m(\u001b[0m\u001b[0mpy_tensor_3\u001b[0m\u001b[0;34m)\u001b[0m\u001b[0;34m)\u001b[0m\u001b[0;34m\u001b[0m\u001b[0;34m\u001b[0m\u001b[0m\n",
            "\u001b[0;31mRuntimeError\u001b[0m: \"check_uniform_bounds\" not implemented for 'Long'"
          ]
        }
      ],
      "metadata": {
        "colab": {
          "base_uri": "https://localhost:8080/",
          "height": 181
        },
        "id": "sRQppi5s4uB_",
        "outputId": "ebcaf05f-af07-41a0-c2b5-90bebefdd823"
      }
    },
    {
      "cell_type": "code",
      "execution_count": null,
      "source": [
        "py_tensor_3 = torch.rand_like(py_tensor_1, dtype=torch.float)\n",
        "print(\"Tensor with random values : \\n {}\".format(py_tensor_3))\n"
      ],
      "outputs": [
        {
          "output_type": "stream",
          "name": "stdout",
          "text": [
            "Tensor with random values : \n",
            " tensor([[0.7013, 0.3386, 0.2358],\n",
            "        [0.9213, 0.2884, 0.1016],\n",
            "        [0.7841, 0.8726, 0.6609]])\n"
          ]
        }
      ],
      "metadata": {
        "colab": {
          "base_uri": "https://localhost:8080/"
        },
        "id": "v7Koc5GH5214",
        "outputId": "bf995199-8043-4105-e4f6-a520b14f503e"
      }
    },
    {
      "cell_type": "code",
      "execution_count": null,
      "source": [
        "zeros = torch.zeros(2,3)\n",
        "print(zeros)\n",
        "\n",
        "ones = torch.ones(2,3)\n",
        "print(ones)\n",
        "\n",
        "torch.manual_seed(2508)\n",
        "random = torch.rand(2,3)\n",
        "\n",
        "print(random)"
      ],
      "outputs": [
        {
          "output_type": "stream",
          "name": "stdout",
          "text": [
            "tensor([[0., 0., 0.],\n",
            "        [0., 0., 0.]])\n",
            "tensor([[1., 1., 1.],\n",
            "        [1., 1., 1.]])\n",
            "tensor([[0.7136, 0.0417, 0.6294],\n",
            "        [0.8594, 0.3111, 0.8449]])\n"
          ]
        }
      ],
      "metadata": {
        "colab": {
          "base_uri": "https://localhost:8080/"
        },
        "id": "dWmW6OXQA9NP",
        "outputId": "f8afb0e5-95a3-42ea-f026-7c87170329a2"
      }
    },
    {
      "cell_type": "code",
      "execution_count": null,
      "source": [
        "torch.manual_seed(2508) # wrapper for initializing tensor , helps in identical computation on reproduction of same results.\n",
        "torch.rand(2,3)"
      ],
      "outputs": [
        {
          "output_type": "execute_result",
          "data": {
            "text/plain": [
              "tensor([[0.7136, 0.0417, 0.6294],\n",
              "        [0.8594, 0.3111, 0.8449]])"
            ]
          },
          "metadata": {},
          "execution_count": 74
        }
      ],
      "metadata": {
        "colab": {
          "base_uri": "https://localhost:8080/"
        },
        "id": "WnN9Z8GoBOBE",
        "outputId": "40bb672f-a49b-4304-b34e-34b18463edbd"
      }
    },
    {
      "cell_type": "code",
      "execution_count": null,
      "source": [
        "torch.rand(2,3)"
      ],
      "outputs": [
        {
          "output_type": "execute_result",
          "data": {
            "text/plain": [
              "tensor([[0.4358, 0.3457, 0.0320],\n",
              "        [0.6301, 0.5709, 0.6966]])"
            ]
          },
          "metadata": {},
          "execution_count": 72
        }
      ],
      "metadata": {
        "colab": {
          "base_uri": "https://localhost:8080/"
        },
        "id": "z0AA-qr8BVWw",
        "outputId": "7bf5a3fc-0611-42f2-e981-79f4c0a52300"
      }
    },
    {
      "cell_type": "code",
      "execution_count": null,
      "source": [
        "py_tensor = torch.rand((3,3), dtype=torch.float64) * 20 \n",
        "print(py_tensor)\n",
        "\n",
        "py_tensor_int = py_tensor.to(torch.int32)\n",
        "print(py_tensor_int)"
      ],
      "outputs": [
        {
          "output_type": "stream",
          "name": "stdout",
          "text": [
            "tensor([[ 5.5401, 12.4066, 11.8336],\n",
            "        [ 8.9489, 14.7726,  2.6878],\n",
            "        [ 8.0113, 17.8539,  7.0717]], dtype=torch.float64)\n",
            "tensor([[ 5, 12, 11],\n",
            "        [ 8, 14,  2],\n",
            "        [ 8, 17,  7]], dtype=torch.int32)\n"
          ]
        }
      ],
      "metadata": {
        "colab": {
          "base_uri": "https://localhost:8080/"
        },
        "id": "YU189Y2UC-FF",
        "outputId": "909220c4-2929-40ab-dfa1-c702a7ab28ff"
      }
    },
    {
      "cell_type": "markdown",
      "source": [
        "## Properties of Tensor such as Shape, DataType and Device\n",
        "\n"
      ],
      "metadata": {
        "id": "41VRO-oi6xCP"
      }
    },
    {
      "cell_type": "code",
      "execution_count": null,
      "source": [
        "print(f\"Shape of tensor: {py_tensor_3.shape}\")\n",
        "print(f\"Datatype of tensor: {py_tensor_3.dtype}\")\n",
        "print(f\"Device tensor is stored on: {py_tensor_3.device}\")"
      ],
      "outputs": [
        {
          "output_type": "stream",
          "name": "stdout",
          "text": [
            "Shape of tensor: torch.Size([3, 3])\n",
            "Datatype of tensor: torch.float32\n",
            "Device tensor is stored on: cpu\n"
          ]
        }
      ],
      "metadata": {
        "colab": {
          "base_uri": "https://localhost:8080/"
        },
        "id": "eanywJ6e6reP",
        "outputId": "dc0b0626-2eca-45fc-fd24-4abd8d0661b8"
      }
    },
    {
      "cell_type": "markdown",
      "source": [
        "**Matrix Operations**\n",
        "\n",
        "Matrices can be added, subtracted, and multiplied - there is no division of matrices, but there exists a similar concept called inversion. "
      ],
      "metadata": {
        "id": "HTVEOWABme-P"
      }
    },
    {
      "cell_type": "markdown",
      "source": [
        " $ \\begin{pmatrix}\n",
        "  2 & 3 & 4  \\\\\n",
        "  5 & 6 & 7  \\\\       \n",
        " \\end{pmatrix} \n",
        "       +\n",
        "\\begin{pmatrix}\n",
        "  5 & 6 & 7  \\\\\n",
        "  8 & 9 & 1  \\\\       \n",
        " \\end{pmatrix}  \n",
        " = \n",
        "\\begin{pmatrix}\n",
        "  7 & 9 & 11  \\\\\n",
        "  13 & 15 & 9  \\\\       \n",
        " \\end{pmatrix}  \\\\ $\n"
      ],
      "metadata": {
        "id": "FyryHb4Ymu3E"
      }
    },
    {
      "cell_type": "markdown",
      "source": [
        "$2 * \\begin{pmatrix}\n",
        "  2 & 3 & 4  \\\\\n",
        "  5 & 6 & 7  \\\\       \n",
        " \\end{pmatrix} = \n",
        " \\begin{pmatrix} 2*2 & 2*3 & 2*4  \\\\ 2*5 & 2*6 & 2*7  \\\\   \\end{pmatrix}\n",
        " = \\begin{pmatrix} 4 & 6 & 8  \\\\ 10 & 12 & 14  \\\\       \\end{pmatrix}  $"
      ],
      "metadata": {
        "id": "6gxUcf6kmu5s"
      }
    },
    {
      "cell_type": "markdown",
      "source": [
        "$ \\begin{pmatrix}\n",
        "  2 & 3   \\\\\n",
        "  4 & 5   \\\\  \\end{pmatrix} * \\begin{pmatrix}\n",
        "  5 & 6   \\\\\n",
        "  7 & 8   \\\\       \n",
        " \\end{pmatrix} = \\begin{pmatrix} 2*5 + 3*7 & 2*6 + 3*8 \\\\ 4*5 + 5*7 & 4*6 + 5 * 8 \\\\       \\end{pmatrix}= \\begin{pmatrix} 31 &  30  \\\\ 55  & 64  \\\\       \\end{pmatrix}  $"
      ],
      "metadata": {
        "id": "xGuCIQZKmu8f"
      }
    },
    {
      "cell_type": "markdown",
      "source": [
        "Note : Two matrices are only multiplicable if the dimensions align, i.e. A is of dimension m by k and B is of dimension k by n. \n",
        "\n",
        "Other way of saying if the rows of A and the columns of B must have the same length, so two matrices can only be multiplied\n",
        "\n",
        "\n",
        "If this weren’t the case, the formula for matrix multiplication would give us an indexing error. \n",
        "\n",
        "We’ll call the formula for matrix multiplication presented above the dot product interpretation of matrix multiplication, ​which will make more sense after reading the Vector Operations section.\n",
        "\n",
        "However, there are few exceptions to this rule and we will understand them deeper in Broadcasting Rules. \n",
        "\n"
      ],
      "metadata": {
        "id": "uW-imc7cmu-q"
      }
    },
    {
      "cell_type": "markdown",
      "source": [
        "Matrix Multiplication are not commutative \\\\\n",
        "$ A . B !=  B.A  $ \\\\\n",
        "Matrix Multiplication are Associative \\\\\n",
        "$ A . (B + C) = A.B + B.C $ \\\\\n",
        "\n"
      ],
      "metadata": {
        "id": "LYof46lNsHMg"
      }
    },
    {
      "cell_type": "markdown",
      "source": [
        "## Tensor Operations\n",
        "\n",
        "\n",
        "\n",
        "1.   Multiplication\n",
        "2.   Move to GPU\n",
        "3.   In_place Operations\n",
        "4.   Joining\n",
        "\n"
      ],
      "metadata": {
        "id": "gE4LHxVd6nKG"
      }
    },
    {
      "cell_type": "markdown",
      "source": [
        "## Scalar Multiplication"
      ],
      "metadata": {
        "id": "VdVwvqP_9tGe"
      }
    },
    {
      "cell_type": "code",
      "execution_count": null,
      "source": [
        "c= 10\n",
        "new_py_tensor = py_tensor * c \n",
        "print(\"New Tensor after multiplication : \\n {}\".format(new_py_tensor))\n"
      ],
      "outputs": [
        {
          "output_type": "stream",
          "name": "stdout",
          "text": [
            "New Tensor after multiplication : \n",
            " tensor([[ 97.3262,  51.2526, 113.4472],\n",
            "        [179.2489,  56.9751, 145.6359],\n",
            "        [  7.9275, 190.1943,  42.1811]], dtype=torch.float64)\n"
          ]
        }
      ],
      "metadata": {
        "id": "5Tz1Z96NxyMF",
        "colab": {
          "base_uri": "https://localhost:8080/"
        },
        "outputId": "23c150b4-8fdf-4878-c170-cc7f0910b006"
      }
    },
    {
      "cell_type": "markdown",
      "source": [
        "## tensor multiplication"
      ],
      "metadata": {
        "id": "AbiBwTz19w-F"
      }
    },
    {
      "cell_type": "code",
      "execution_count": null,
      "source": [
        "out1 = py_tensor_1 @ py_tensor_1.T  \n",
        "out2 = py_tensor_1.matmul(py_tensor_1.T)\n",
        "\n",
        "out1 == out2 "
      ],
      "outputs": [
        {
          "output_type": "execute_result",
          "data": {
            "text/plain": [
              "tensor([[True, True, True],\n",
              "        [True, True, True],\n",
              "        [True, True, True]])"
            ]
          },
          "metadata": {},
          "execution_count": 57
        }
      ],
      "metadata": {
        "colab": {
          "base_uri": "https://localhost:8080/"
        },
        "id": "-ZMLHoJ09q38",
        "outputId": "c54ccdd9-4501-467e-87d9-b6fe9f2d872c"
      }
    },
    {
      "cell_type": "markdown",
      "source": [
        "## element-wise product"
      ],
      "metadata": {
        "id": "7G3rIAv19o3u"
      }
    },
    {
      "cell_type": "code",
      "execution_count": null,
      "source": [
        "out1 = py_tensor_1 * py_tensor_1\n",
        "out2 = py_tensor_1.mul(py_tensor_1)\n",
        "\n",
        "out1 == out2 "
      ],
      "outputs": [
        {
          "output_type": "execute_result",
          "data": {
            "text/plain": [
              "tensor([[True, True, True],\n",
              "        [True, True, True],\n",
              "        [True, True, True]])"
            ]
          },
          "metadata": {},
          "execution_count": 58
        }
      ],
      "metadata": {
        "colab": {
          "base_uri": "https://localhost:8080/"
        },
        "id": "Uzpbzp5r9V-a",
        "outputId": "17000af6-0229-4de1-f787-55d264da7c2d"
      }
    },
    {
      "cell_type": "markdown",
      "source": [
        "**Broadcasting Rules** \\\\\n",
        "\n",
        "Performing Operation only when there is some similarity in shape between tensors.\n",
        "The term broadcasting is how the tensor operation will take place incase, we are operating on tensors of different sizes. \n",
        "For example you are having an image input of 256x256x3 (3d input) and when we add one more dimension of row (to form mini-batches for SGD). \n",
        "\n",
        "input = torch.empty(8, 1, ,6 ,1)\n",
        "bias = torch.empty(7,1,5) \n",
        "\n",
        "if we do addition or multiplication or substraction  \n",
        "\n",
        "it would be of shape (8, 7, 6, 5)\n",
        "\n",
        "\n",
        "### Starting from last dimension and going towards first dimension . Two dimensions are broadcastable only when \n",
        "\n",
        "## Rule Condition 1 : they are equal \n",
        "## or \n",
        "## Rule Condition 2 : either of them is 1\n",
        "## or \n",
        "## Rule Condition 3 : either of them does not exist\n",
        "\n",
        "\n",
        "## Very Common Operation in ML where we multiply a tensor having weights(parameters) by batch of input (subset of input) for example a weight of shape (2,4) * (1, 4) returns a learned weight of (2,4)."
      ],
      "metadata": {
        "id": "G2Prwy14x_z5"
      }
    },
    {
      "cell_type": "code",
      "execution_count": null,
      "source": [
        "ones = torch.zeros(2,2) + 1 \n",
        "ones"
      ],
      "outputs": [
        {
          "output_type": "execute_result",
          "data": {
            "text/plain": [
              "tensor([[1., 1.],\n",
              "        [1., 1.]])"
            ]
          },
          "metadata": {},
          "execution_count": 82
        }
      ],
      "metadata": {
        "colab": {
          "base_uri": "https://localhost:8080/"
        },
        "id": "iG_y5twID1FO",
        "outputId": "2e934c52-e187-44d3-ff2f-e187d34d0fa4"
      }
    },
    {
      "cell_type": "code",
      "execution_count": null,
      "source": [
        "a = torch.ones(4, 3,2) # Compare dims last to first \n",
        "b = a * torch.rand(3,2) # 3rd and 2nd dim are indentical to a \n",
        "\n",
        "c = a * torch.rand(3,1) # 3rd dim is 1, 2nd dim is 3 = 2nd of a \n",
        "\n"
      ],
      "outputs": [],
      "metadata": {
        "id": "7sn2VMMKxyOj"
      }
    },
    {
      "cell_type": "code",
      "execution_count": null,
      "source": [
        "\n",
        "input_ = torch.empty(8, 7,6 ,4) # Compare dims last to first \n",
        "bias = torch.empty(7,6,4) \n",
        "\n",
        "\n",
        "y = input_ + bias \n",
        "z = input_ * bias # or y = torch.matmul(input_ , bias) \n",
        "u = input_ - bias"
      ],
      "outputs": [],
      "metadata": {
        "id": "h46SCkWLyLuC"
      }
    },
    {
      "cell_type": "code",
      "execution_count": null,
      "source": [
        "y.shape == z.shape == u.shape"
      ],
      "outputs": [
        {
          "output_type": "execute_result",
          "data": {
            "text/plain": [
              "True"
            ]
          },
          "metadata": {},
          "execution_count": 85
        }
      ],
      "metadata": {
        "colab": {
          "base_uri": "https://localhost:8080/"
        },
        "id": "ycJ8abZdyO_8",
        "outputId": "47a0ebec-b451-4c18-e8e6-0aaf5104c303"
      }
    },
    {
      "cell_type": "code",
      "execution_count": null,
      "source": [
        "y.shape"
      ],
      "outputs": [
        {
          "output_type": "execute_result",
          "data": {
            "text/plain": [
              "torch.Size([8, 7, 6, 4])"
            ]
          },
          "metadata": {},
          "execution_count": 86
        }
      ],
      "metadata": {
        "colab": {
          "base_uri": "https://localhost:8080/"
        },
        "id": "GLEyZazdySTD",
        "outputId": "b6918362-afae-4c0f-9427-1c94944c0886"
      }
    },
    {
      "cell_type": "markdown",
      "source": [
        "##Where as"
      ],
      "metadata": {
        "id": "EVcVt7ENyVeN"
      }
    },
    {
      "cell_type": "code",
      "execution_count": null,
      "source": [
        "input_ = torch.empty(8, 7,6 ,4)\n",
        "bias = torch.empty(7,6,5) "
      ],
      "outputs": [],
      "metadata": {
        "id": "NAuxDsXGyUqY"
      }
    },
    {
      "cell_type": "code",
      "execution_count": null,
      "source": [
        "y = input_ + bias \n",
        "z = input_ * bias # or y = torch.matmul(input_ , bias) \n",
        "u = input_ - bias"
      ],
      "outputs": [
        {
          "output_type": "error",
          "ename": "RuntimeError",
          "evalue": "ignored",
          "traceback": [
            "\u001b[0;31m---------------------------------------------------------------------------\u001b[0m",
            "\u001b[0;31mRuntimeError\u001b[0m                              Traceback (most recent call last)",
            "\u001b[0;32m<ipython-input-14-cf1af67e9229>\u001b[0m in \u001b[0;36m<module>\u001b[0;34m()\u001b[0m\n\u001b[0;32m----> 1\u001b[0;31m \u001b[0my\u001b[0m \u001b[0;34m=\u001b[0m \u001b[0minput_\u001b[0m \u001b[0;34m+\u001b[0m \u001b[0mbias\u001b[0m\u001b[0;34m\u001b[0m\u001b[0;34m\u001b[0m\u001b[0m\n\u001b[0m\u001b[1;32m      2\u001b[0m \u001b[0mz\u001b[0m \u001b[0;34m=\u001b[0m \u001b[0minput_\u001b[0m \u001b[0;34m*\u001b[0m \u001b[0mbias\u001b[0m \u001b[0;31m# or y = torch.matmul(input_ , bias)\u001b[0m\u001b[0;34m\u001b[0m\u001b[0;34m\u001b[0m\u001b[0m\n\u001b[1;32m      3\u001b[0m \u001b[0mu\u001b[0m \u001b[0;34m=\u001b[0m \u001b[0minput_\u001b[0m \u001b[0;34m-\u001b[0m \u001b[0mbias\u001b[0m\u001b[0;34m\u001b[0m\u001b[0;34m\u001b[0m\u001b[0m\n",
            "\u001b[0;31mRuntimeError\u001b[0m: The size of tensor a (4) must match the size of tensor b (5) at non-singleton dimension 3"
          ]
        }
      ],
      "metadata": {
        "colab": {
          "base_uri": "https://localhost:8080/",
          "height": 198
        },
        "id": "EoQd0rtezz-_",
        "outputId": "f370e12d-5deb-4baf-9b2c-ef51f0099312"
      }
    },
    {
      "cell_type": "code",
      "execution_count": null,
      "source": [
        "\n",
        "# bitwise operations\n",
        "print('\\nBitwise XOR:')\n",
        "b = torch.tensor([1, 5, 11])\n",
        "c = torch.tensor([2, 7, 10])\n",
        "print(torch.bitwise_xor(b, c))\n",
        "\n",
        "# comparisons:\n",
        "print('\\nBroadcasted, element-wise equality comparison:')\n",
        "d = torch.tensor([[1., 2.], [3., 4.]])\n",
        "e = torch.ones(1, 2)  # many comparison ops support broadcasting!\n",
        "print(torch.eq(d, e)) # returns a tensor of type bool\n",
        "\n",
        "# reductions:\n",
        "print('\\nReduction ops:')\n",
        "print(torch.max(d))        # returns a single-element tensor\n",
        "print(torch.max(d).item()) # extracts the value from the returned tensor\n",
        "print(torch.mean(d))       # average\n",
        "print(torch.std(d))        # standard deviation\n",
        "print(torch.prod(d))       # product of all numbers\n",
        "print(torch.unique(torch.tensor([1, 2, 1, 2, 1, 2]))) # filter unique elements"
      ],
      "outputs": [
        {
          "output_type": "stream",
          "name": "stdout",
          "text": [
            "\n",
            "Bitwise XOR:\n",
            "tensor([3, 2, 1])\n",
            "\n",
            "Broadcasted, element-wise equality comparison:\n",
            "tensor([[ True, False],\n",
            "        [False, False]])\n",
            "\n",
            "Reduction ops:\n",
            "tensor(4.)\n",
            "4.0\n",
            "tensor(2.5000)\n",
            "tensor(1.2910)\n",
            "tensor(24.)\n",
            "tensor([1, 2])\n"
          ]
        }
      ],
      "metadata": {
        "colab": {
          "base_uri": "https://localhost:8080/"
        },
        "id": "eAL1aHiLG_dF",
        "outputId": "81461f2b-ccc3-4fe5-ddf2-0e2734ac328d"
      }
    },
    {
      "cell_type": "code",
      "execution_count": null,
      "source": [],
      "outputs": [],
      "metadata": {
        "id": "ItKmmyXlG_gH"
      }
    },
    {
      "cell_type": "code",
      "execution_count": null,
      "source": [],
      "outputs": [],
      "metadata": {
        "id": "kgXUSwzNG_jk"
      }
    },
    {
      "cell_type": "code",
      "execution_count": null,
      "source": [],
      "outputs": [],
      "metadata": {
        "id": "DggYI-8VG_wk"
      }
    },
    {
      "cell_type": "markdown",
      "source": [
        "## Alter the Tensor Inplace \n",
        "Note : Any function call ending with _ suffix are in place changes to operand. No intermediate results\n"
      ],
      "metadata": {
        "id": "bp33WTShyd9m"
      }
    },
    {
      "cell_type": "code",
      "execution_count": null,
      "source": [
        "tensor1 = torch.tensor([[1,2],[3,4]])\n",
        "tensor2 = torch.tensor([[1,2,3],[4,5,6]])"
      ],
      "outputs": [],
      "metadata": {
        "id": "RxiROXGPycga"
      }
    },
    {
      "cell_type": "code",
      "execution_count": null,
      "source": [
        "print(tensor1)\n",
        "tensor1.add_(5)\n",
        "print(tensor1)\n",
        "tensor1.mul_(5)\n",
        "print(tensor1)"
      ],
      "outputs": [
        {
          "output_type": "stream",
          "name": "stdout",
          "text": [
            "tensor([[11, 12],\n",
            "        [13, 14]])\n",
            "tensor([[16, 17],\n",
            "        [18, 19]])\n",
            "tensor([[80, 85],\n",
            "        [90, 95]])\n"
          ]
        }
      ],
      "metadata": {
        "id": "lIwGnKmLycjC",
        "colab": {
          "base_uri": "https://localhost:8080/"
        },
        "outputId": "ec6710d4-04c7-4502-9190-095b51599675"
      }
    },
    {
      "cell_type": "markdown",
      "source": [
        "## Copying a Tensor\n",
        "\n",
        "Two or more paths in the model using same layer weights."
      ],
      "metadata": {
        "id": "L3oHAP-BJQUk"
      }
    },
    {
      "cell_type": "code",
      "execution_count": null,
      "source": [
        "a = torch.ones(3,3)\n",
        "b = a.clone() # by default copies the autgrade value from source tensor \n",
        "\n",
        "c = a.detach().clone() # does not store  store computation history for c \n",
        "\n",
        "id(a) == id(b)\n"
      ],
      "outputs": [
        {
          "output_type": "execute_result",
          "data": {
            "text/plain": [
              "False"
            ]
          },
          "metadata": {},
          "execution_count": 93
        }
      ],
      "metadata": {
        "colab": {
          "base_uri": "https://localhost:8080/"
        },
        "id": "fOQGwms6JOpI",
        "outputId": "a2ae3b22-1a58-41eb-8d5e-79ed8ac6b9c4"
      }
    },
    {
      "cell_type": "markdown",
      "source": [
        "## Moving to GPU"
      ],
      "metadata": {
        "id": "1Oif9tzlKcKi"
      }
    },
    {
      "cell_type": "code",
      "execution_count": null,
      "source": [
        "if torch.cuda.is_available():\n",
        "    print('We have a GPU!')\n",
        "else:\n",
        "    print('Sorry, CPU only.')"
      ],
      "outputs": [
        {
          "output_type": "stream",
          "name": "stdout",
          "text": [
            "Sorry, CPU only.\n"
          ]
        }
      ],
      "metadata": {
        "colab": {
          "base_uri": "https://localhost:8080/"
        },
        "id": "_2M4cC5WIqtU",
        "outputId": "1e4292ff-6ec0-42d6-c084-37c233191c3e"
      }
    },
    {
      "cell_type": "markdown",
      "source": [
        "## Manipulating Tensor Shapes\n",
        "\n",
        "Sometimes, you'll need to change the shape of your tensor. Below, we'll look at a few common cases, and how to handle them.\n",
        "\n",
        "### Changing the Number of Dimensions\n",
        "\n",
        "One case where you might need to change the number of dimensions is passing a single instance of input to your model. PyTorch models generally expect *batches* of input.\n",
        "\n",
        "For example, imagine having a model that works on 3 x 226 x 226 images - a 226-pixel square with 3 color channels. When you load and transform it, you'll get a tensor of shape `(3, 226, 226)`. Your model, though, is expecting input of shape `(N, 3, 226, 226)`, where `N` is the number of images in the batch. So how do you make a batch of one?"
      ],
      "metadata": {
        "id": "KMKrFnFRKxUh"
      }
    },
    {
      "cell_type": "code",
      "execution_count": null,
      "source": [
        "a = torch.rand(3, 226, 226)\n",
        "b = a.unsqueeze(0)\n",
        "\n",
        "print(a.shape)\n",
        "print(b.shape)"
      ],
      "outputs": [
        {
          "output_type": "stream",
          "name": "stdout",
          "text": [
            "torch.Size([3, 226, 226])\n",
            "torch.Size([1, 3, 226, 226])\n"
          ]
        }
      ],
      "metadata": {
        "colab": {
          "base_uri": "https://localhost:8080/"
        },
        "id": "Nukd9JjcKwn4",
        "outputId": "bec9c3a1-b6bb-40c9-accd-85216096e576"
      }
    },
    {
      "cell_type": "markdown",
      "source": [
        "The `unsqueeze()` method adds a dimension of extent 1. `unsqueeze(0)` adds it as a new zeroth dimension - now you have a batch of one!\n",
        "\n",
        "So if that's *un*squeezing? What do we mean by squeezing? We're taking advantage of the fact that any dimension of extent 1 *does not* change the number of elements in the tensor."
      ],
      "metadata": {
        "id": "NqDN7OlHK1kh"
      }
    },
    {
      "cell_type": "markdown",
      "source": [],
      "metadata": {
        "id": "JvqJtvBTb6WM"
      }
    },
    {
      "cell_type": "markdown",
      "source": [
        "Continuing the example above, let's say the model's output is a 20-element vector for each input. You would then expect the output to have shape `(N, 20)`, where `N` is the number of instances in the input batch. That means that for our single-input batch, we'll get an output of shape `(1, 20)`.\n",
        "\n",
        "What if you want to do some *non-batched* computation with that output - something that's just expecting a 20-element vector?"
      ],
      "metadata": {
        "id": "OvZqRMR-b6Zb"
      }
    },
    {
      "cell_type": "code",
      "execution_count": null,
      "source": [
        "a = torch.rand(1, 20)\n",
        "print(a.shape)\n",
        "print(a)\n",
        "\n",
        "b = a.squeeze(0)\n",
        "print(b.shape)\n",
        "print(b)\n",
        "\n",
        "c = torch.rand(2, 2)\n",
        "print(c.shape)\n",
        "\n",
        "d = c.squeeze(0)\n",
        "print(d.shape)"
      ],
      "outputs": [
        {
          "output_type": "error",
          "ename": "NameError",
          "evalue": "ignored",
          "traceback": [
            "\u001b[0;31m---------------------------------------------------------------------------\u001b[0m",
            "\u001b[0;31mNameError\u001b[0m                                 Traceback (most recent call last)",
            "\u001b[0;32m<ipython-input-1-1dfebd030bb7>\u001b[0m in \u001b[0;36m<module>\u001b[0;34m()\u001b[0m\n\u001b[0;32m----> 1\u001b[0;31m \u001b[0ma\u001b[0m \u001b[0;34m=\u001b[0m \u001b[0mtorch\u001b[0m\u001b[0;34m.\u001b[0m\u001b[0mrand\u001b[0m\u001b[0;34m(\u001b[0m\u001b[0;36m1\u001b[0m\u001b[0;34m,\u001b[0m \u001b[0;36m20\u001b[0m\u001b[0;34m)\u001b[0m\u001b[0;34m\u001b[0m\u001b[0;34m\u001b[0m\u001b[0m\n\u001b[0m\u001b[1;32m      2\u001b[0m \u001b[0mprint\u001b[0m\u001b[0;34m(\u001b[0m\u001b[0ma\u001b[0m\u001b[0;34m.\u001b[0m\u001b[0mshape\u001b[0m\u001b[0;34m)\u001b[0m\u001b[0;34m\u001b[0m\u001b[0;34m\u001b[0m\u001b[0m\n\u001b[1;32m      3\u001b[0m \u001b[0mprint\u001b[0m\u001b[0;34m(\u001b[0m\u001b[0ma\u001b[0m\u001b[0;34m)\u001b[0m\u001b[0;34m\u001b[0m\u001b[0;34m\u001b[0m\u001b[0m\n\u001b[1;32m      4\u001b[0m \u001b[0;34m\u001b[0m\u001b[0m\n\u001b[1;32m      5\u001b[0m \u001b[0mb\u001b[0m \u001b[0;34m=\u001b[0m \u001b[0ma\u001b[0m\u001b[0;34m.\u001b[0m\u001b[0msqueeze\u001b[0m\u001b[0;34m(\u001b[0m\u001b[0;36m0\u001b[0m\u001b[0;34m)\u001b[0m\u001b[0;34m\u001b[0m\u001b[0;34m\u001b[0m\u001b[0m\n",
            "\u001b[0;31mNameError\u001b[0m: name 'torch' is not defined"
          ]
        }
      ],
      "metadata": {
        "colab": {
          "base_uri": "https://localhost:8080/",
          "height": 232
        },
        "id": "uMxUit0Ub84D",
        "outputId": "e1166b9b-1a07-44da-e1ca-59846e826bd2"
      }
    },
    {
      "cell_type": "markdown",
      "source": [
        "You can see from the shapes that our 2-dimensional tensor is now 1-dimensional, and if you look closely at the output of the cell above you'll see that printing `a` shows an \"extra\" set of square brackets `[]` due to having an extra dimension.\n",
        "\n",
        "You may only `squeeze()` dimensions of extent 1. See above where we try to squeeze a dimension of size 2 in `c`, and get back the same shape we started with. Calls to `squeeze()` and `unsqueeze()` can only act on dimensions of extent 1 because to do otherwise would change the number of elements in the tensor.\n",
        "\n",
        "Another place you might use `unsqueeze()` is to ease broadcasting. Recall the example above where we had the following code:\n",
        "\n",
        "```\n",
        "a =     torch.ones(4, 3, 2)\n",
        "\n",
        "c = a * torch.rand(   3, 1) # 3rd dim = 1, 2nd dim identical to a\n",
        "print(c)\n",
        "```\n",
        "\n",
        "The net effect of that was to broadcast the operation over dimensions 0 and 2, causing the random, 3 x 1 tensor to be multiplied element-wise by every 3-element column in `a`.\n",
        "\n",
        "What if the random vector had just been  3-element vector? We'd lose the ability to do the broadcast, because the final dimensions would not match up according to the broadcasting rules. `unsqueeze()` comes to the rescue:"
      ],
      "metadata": {
        "id": "diKHQ5KQb7zt"
      }
    },
    {
      "cell_type": "code",
      "execution_count": null,
      "source": [
        "a = torch.ones(4, 3, 2)\n",
        "b = torch.rand(   3)     # trying to multiply a * b will give a runtime error\n",
        "c = b.unsqueeze(1)       # change to a 2-dimensional tensor, adding new dim at the end\n",
        "print(b.shape)\n",
        "print(c.shape)\n",
        "print(a * c)             # broadcasting works again!"
      ],
      "outputs": [
        {
          "output_type": "stream",
          "name": "stdout",
          "text": [
            "torch.Size([3])\n",
            "torch.Size([3, 1])\n",
            "tensor([[[0.1412, 0.1412],\n",
            "         [0.6171, 0.6171],\n",
            "         [0.1231, 0.1231]],\n",
            "\n",
            "        [[0.1412, 0.1412],\n",
            "         [0.6171, 0.6171],\n",
            "         [0.1231, 0.1231]],\n",
            "\n",
            "        [[0.1412, 0.1412],\n",
            "         [0.6171, 0.6171],\n",
            "         [0.1231, 0.1231]],\n",
            "\n",
            "        [[0.1412, 0.1412],\n",
            "         [0.6171, 0.6171],\n",
            "         [0.1231, 0.1231]]])\n"
          ]
        }
      ],
      "metadata": {
        "colab": {
          "base_uri": "https://localhost:8080/"
        },
        "id": "n-nEypmPcHVK",
        "outputId": "751e8341-7bac-4774-f81d-c5ca326ec4b2"
      }
    },
    {
      "cell_type": "code",
      "execution_count": null,
      "source": [
        "batch_me = torch.rand(3, 226, 226)\n",
        "print(batch_me.shape)\n",
        "batch_me.unsqueeze_(0)\n",
        "print(batch_me.shape)"
      ],
      "outputs": [
        {
          "output_type": "stream",
          "name": "stdout",
          "text": [
            "torch.Size([3, 226, 226])\n",
            "torch.Size([1, 3, 226, 226])\n"
          ]
        }
      ],
      "metadata": {
        "colab": {
          "base_uri": "https://localhost:8080/"
        },
        "id": "FRXJEzdXcLoR",
        "outputId": "e67771fb-5af4-436d-88cf-e28e2595e09a"
      }
    },
    {
      "cell_type": "code",
      "execution_count": null,
      "source": [],
      "outputs": [],
      "metadata": {
        "id": "Q0l7t9EeKwqt"
      }
    },
    {
      "cell_type": "markdown",
      "source": [
        "## Gradients in Pytorch\n",
        "\n"
      ],
      "metadata": {
        "id": "FdATTLc3yrII"
      }
    },
    {
      "cell_type": "code",
      "execution_count": null,
      "source": [
        "x = torch.tensor(2.0, requires_grad=True)\n",
        "y = torch.tensor(3.0, requires_grad=True)\n",
        "z = torch.tensor(1.5, requires_grad=True)"
      ],
      "outputs": [],
      "metadata": {
        "id": "Y47f3u2fyzgw"
      }
    },
    {
      "cell_type": "code",
      "execution_count": null,
      "source": [
        "f = x**2 + y**2 + z**2"
      ],
      "outputs": [],
      "metadata": {
        "id": "fRJVTgtSyqFO"
      }
    },
    {
      "cell_type": "code",
      "execution_count": null,
      "source": [
        "f.backward()"
      ],
      "outputs": [],
      "metadata": {
        "id": "h7p2cL17yqH1"
      }
    },
    {
      "cell_type": "code",
      "execution_count": null,
      "source": [
        "x.grad"
      ],
      "outputs": [
        {
          "output_type": "execute_result",
          "data": {
            "text/plain": [
              "tensor(4.)"
            ]
          },
          "metadata": {},
          "execution_count": 20
        }
      ],
      "metadata": {
        "colab": {
          "base_uri": "https://localhost:8080/"
        },
        "id": "7wXB3MDpy3Av",
        "outputId": "ca9ba99b-c9f4-4559-9aa9-f3971762999a"
      }
    },
    {
      "cell_type": "code",
      "execution_count": null,
      "source": [
        "y.grad"
      ],
      "outputs": [
        {
          "output_type": "execute_result",
          "data": {
            "text/plain": [
              "tensor(6.)"
            ]
          },
          "metadata": {},
          "execution_count": 21
        }
      ],
      "metadata": {
        "colab": {
          "base_uri": "https://localhost:8080/"
        },
        "id": "WqmLUoAYy3DW",
        "outputId": "cca16d3d-9a7a-40fc-f166-faa182b1d130"
      }
    },
    {
      "cell_type": "code",
      "execution_count": null,
      "source": [
        "z.grad"
      ],
      "outputs": [
        {
          "output_type": "execute_result",
          "data": {
            "text/plain": [
              "tensor(3.)"
            ]
          },
          "metadata": {},
          "execution_count": 22
        }
      ],
      "metadata": {
        "colab": {
          "base_uri": "https://localhost:8080/"
        },
        "id": "ONYGmpbny3GY",
        "outputId": "bf30ea11-5a1e-49dd-a2d5-d1e3829ad007"
      }
    },
    {
      "cell_type": "code",
      "execution_count": null,
      "source": [
        "import torch.nn as nn"
      ],
      "outputs": [],
      "metadata": {
        "id": "rIvgBPtxy8Yx"
      }
    },
    {
      "cell_type": "code",
      "execution_count": null,
      "source": [
        "in_dim, out_dim = 256, 10 \n",
        "vec = torch.randn(256)\n",
        "layer = nn.Linear(in_dim, out_dim, bias=True)\n",
        "out = layer(vec)"
      ],
      "outputs": [],
      "metadata": {
        "id": "nqI0Rr6Zy_G2"
      }
    },
    {
      "cell_type": "code",
      "execution_count": null,
      "source": [
        "# out = torch.matmul(W, vec) + b "
      ],
      "outputs": [],
      "metadata": {
        "id": "kkc2S-PozA_4"
      }
    },
    {
      "cell_type": "code",
      "execution_count": null,
      "source": [
        "class BaseClassifier(nn.Module):\n",
        "    def __init__(self, in_dim, feature_dim, out_dim):\n",
        "        super(Model, self).__init__()\n",
        "        self.layer1 = nn.Linear(in_dim, feature_dim, bias=True)\n",
        "        \n",
        "        self.layer2 = nn.Linear(feature_dim, out_dim, bias=True)\n",
        "        self.relu = nn.Relu()\n",
        "        \n",
        "    def forward(self, inp):\n",
        "        int_out = self.layer1(inp)\n",
        "        int_out = self.relu(int_out)\n",
        "        out = self.layer2(int_out)\n",
        "        return out \n",
        "        "
      ],
      "outputs": [],
      "metadata": {
        "id": "Z9m8qeXOzCq8"
      }
    },
    {
      "cell_type": "code",
      "execution_count": null,
      "source": [],
      "outputs": [],
      "metadata": {
        "id": "VjDSO9n-z3FD"
      }
    }
  ]
}