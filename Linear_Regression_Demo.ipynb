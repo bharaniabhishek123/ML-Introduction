{
  "nbformat": 4,
  "nbformat_minor": 0,
  "metadata": {
    "colab": {
      "name": "Linear Regression Demo.ipynb",
      "provenance": [],
      "collapsed_sections": [],
      "authorship_tag": "ABX9TyOAY5cJQckSTnrUKzVDoEfr",
      "include_colab_link": true
    },
    "kernelspec": {
      "name": "python3",
      "display_name": "Python 3"
    },
    "language_info": {
      "name": "python"
    }
  },
  "cells": [
    {
      "cell_type": "markdown",
      "metadata": {
        "id": "view-in-github",
        "colab_type": "text"
      },
      "source": [
        "<a href=\"https://colab.research.google.com/github/bharaniabhishek123/ML-Introduction/blob/main/Linear_Regression_Demo.ipynb\" target=\"_parent\"><img src=\"https://colab.research.google.com/assets/colab-badge.svg\" alt=\"Open In Colab\"/></a>"
      ]
    },
    {
      "cell_type": "markdown",
      "metadata": {
        "id": "4F_O8k8uPvyd"
      },
      "source": [
        "## Linear Regression\n",
        "\n",
        "## Linear Regression is an approach that tries to find a linear relationship between a dependent variable and an independent variable by minimizing the distance as shown below.\n",
        "Linear Regression is a statistical method that allows us to summarize and study relationships between a target variable (also known as dependent variable) on one or more predictors (also known as independent variables).\n",
        "The objective is to estimate and/or predict the mean value of the dependent variable (continuous) on the basis of the known values of the independent variables. And try to minimize the error as much as possible.\n",
        "\n",
        "In statistics, linear regression is a linear approach to modelling the relationship between a scalar response and one or more explanatory variables (also known as dependent and independent variables)."
      ]
    },
    {
      "cell_type": "markdown",
      "metadata": {
        "id": "l7WftgI7Ju-l"
      },
      "source": [
        "## Update the sklearn version to latest one on google colab; "
      ]
    },
    {
      "cell_type": "code",
      "metadata": {
        "colab": {
          "base_uri": "https://localhost:8080/"
        },
        "id": "hwwj3MB9GZ1A",
        "outputId": "f8bdd925-6f76-4645-be7d-87c9e952e074"
      },
      "source": [
        "!pip uninstall scikit-learn -y\n",
        "\n",
        "!pip install -U scikit-learn"
      ],
      "execution_count": 1,
      "outputs": [
        {
          "output_type": "stream",
          "name": "stdout",
          "text": [
            "Found existing installation: scikit-learn 1.0\n",
            "Uninstalling scikit-learn-1.0:\n",
            "  Successfully uninstalled scikit-learn-1.0\n",
            "Collecting scikit-learn\n",
            "  Using cached scikit_learn-1.0-cp37-cp37m-manylinux_2_12_x86_64.manylinux2010_x86_64.whl (23.1 MB)\n",
            "Requirement already satisfied: joblib>=0.11 in /usr/local/lib/python3.7/dist-packages (from scikit-learn) (1.0.1)\n",
            "Requirement already satisfied: numpy>=1.14.6 in /usr/local/lib/python3.7/dist-packages (from scikit-learn) (1.19.5)\n",
            "Requirement already satisfied: threadpoolctl>=2.0.0 in /usr/local/lib/python3.7/dist-packages (from scikit-learn) (2.2.0)\n",
            "Requirement already satisfied: scipy>=1.1.0 in /usr/local/lib/python3.7/dist-packages (from scikit-learn) (1.4.1)\n",
            "Installing collected packages: scikit-learn\n",
            "Successfully installed scikit-learn-1.0\n"
          ]
        }
      ]
    },
    {
      "cell_type": "markdown",
      "metadata": {
        "id": "FsW4mpXVJ3hG"
      },
      "source": [
        "# Note: Please restart the runtime : Runtime >> Restart runtime and make sure we are on version 1.0 by executing below cell"
      ]
    },
    {
      "cell_type": "code",
      "metadata": {
        "colab": {
          "base_uri": "https://localhost:8080/",
          "height": 35
        },
        "id": "Uk-Q5PR8KC72",
        "outputId": "b5c61899-1948-4cd4-f8a7-57aa1ef070cf"
      },
      "source": [
        "import sklearn\n",
        "\n",
        "sklearn.__version__ "
      ],
      "execution_count": 2,
      "outputs": [
        {
          "output_type": "execute_result",
          "data": {
            "application/vnd.google.colaboratory.intrinsic+json": {
              "type": "string"
            },
            "text/plain": [
              "'1.0'"
            ]
          },
          "metadata": {},
          "execution_count": 2
        }
      ]
    },
    {
      "cell_type": "markdown",
      "metadata": {
        "id": "awo-24xTHBgv"
      },
      "source": [
        "#1. Dataset \n",
        "\n",
        "In this exercise we will use UCI Diabetes Dataset, just to play around with Linear and Logistic regression models.\n",
        "\n",
        "For each patient we have the body mass index(BMI) and a risk of diabetes (score from 0-300) \n",
        "\n",
        "Our goal is to find how BMI affects an individual's diabetes risk."
      ]
    },
    {
      "cell_type": "code",
      "metadata": {
        "id": "9Sf0Y-VtIKOh"
      },
      "source": [
        "from sklearn import datasets \n",
        "import pandas as pd \n",
        "import numpy as np\n",
        "from sklearn.model_selection import train_test_split\n",
        "\n",
        "%matplotlib inline\n",
        "\n",
        "import matplotlib.pyplot as plt\n",
        "\n",
        "import torch \n",
        "import torch.nn as nn \n",
        "\n",
        "\n",
        "# Load the dataset \n",
        "X, y = datasets.load_diabetes(return_X_y=True, as_frame=True)\n",
        "\n",
        "# using only 1 feature bmi\n",
        "X = X.loc[:, ['bmi']] \n",
        "\n"
      ],
      "execution_count": 3,
      "outputs": []
    },
    {
      "cell_type": "markdown",
      "metadata": {
        "id": "KyEuD31QjYba"
      },
      "source": [
        "## Split the dataset into training set and test test"
      ]
    },
    {
      "cell_type": "code",
      "metadata": {
        "colab": {
          "base_uri": "https://localhost:8080/"
        },
        "id": "JYNK6-EqjW3l",
        "outputId": "b925db28-b5cd-4ed2-e124-ab9a5a96e0f9"
      },
      "source": [
        "X_train, X_test, y_train, y_test = train_test_split(X, y, test_size=1/3, random_state=42)\n",
        "print(f'x_train.shape={X_train.shape} x_test.shape={X_test.shape} y_train.shape={y_train.shape} y_test.shape={y_test.shape}')"
      ],
      "execution_count": 4,
      "outputs": [
        {
          "output_type": "stream",
          "name": "stdout",
          "text": [
            "x_train.shape=(294, 1) x_test.shape=(148, 1) y_train.shape=(294,) y_test.shape=(148,)\n"
          ]
        }
      ]
    },
    {
      "cell_type": "code",
      "metadata": {
        "colab": {
          "base_uri": "https://localhost:8080/",
          "height": 204
        },
        "id": "FqUtYMhZjW6U",
        "outputId": "bca1d1c8-c381-4522-ac41-4e11193a259b"
      },
      "source": [
        "# Display points\n",
        "pd.concat([X_train, y_train], axis=1).head()"
      ],
      "execution_count": 5,
      "outputs": [
        {
          "output_type": "execute_result",
          "data": {
            "text/html": [
              "<div>\n",
              "<style scoped>\n",
              "    .dataframe tbody tr th:only-of-type {\n",
              "        vertical-align: middle;\n",
              "    }\n",
              "\n",
              "    .dataframe tbody tr th {\n",
              "        vertical-align: top;\n",
              "    }\n",
              "\n",
              "    .dataframe thead th {\n",
              "        text-align: right;\n",
              "    }\n",
              "</style>\n",
              "<table border=\"1\" class=\"dataframe\">\n",
              "  <thead>\n",
              "    <tr style=\"text-align: right;\">\n",
              "      <th></th>\n",
              "      <th>bmi</th>\n",
              "      <th>target</th>\n",
              "    </tr>\n",
              "  </thead>\n",
              "  <tbody>\n",
              "    <tr>\n",
              "      <th>193</th>\n",
              "      <td>-0.005128</td>\n",
              "      <td>116.0</td>\n",
              "    </tr>\n",
              "    <tr>\n",
              "      <th>109</th>\n",
              "      <td>-0.009439</td>\n",
              "      <td>81.0</td>\n",
              "    </tr>\n",
              "    <tr>\n",
              "      <th>195</th>\n",
              "      <td>0.025051</td>\n",
              "      <td>122.0</td>\n",
              "    </tr>\n",
              "    <tr>\n",
              "      <th>145</th>\n",
              "      <td>0.128521</td>\n",
              "      <td>259.0</td>\n",
              "    </tr>\n",
              "    <tr>\n",
              "      <th>210</th>\n",
              "      <td>0.014272</td>\n",
              "      <td>191.0</td>\n",
              "    </tr>\n",
              "  </tbody>\n",
              "</table>\n",
              "</div>"
            ],
            "text/plain": [
              "          bmi  target\n",
              "193 -0.005128   116.0\n",
              "109 -0.009439    81.0\n",
              "195  0.025051   122.0\n",
              "145  0.128521   259.0\n",
              "210  0.014272   191.0"
            ]
          },
          "metadata": {},
          "execution_count": 5
        }
      ]
    },
    {
      "cell_type": "code",
      "metadata": {
        "colab": {
          "base_uri": "https://localhost:8080/",
          "height": 296
        },
        "id": "CKAEIvkcIpfQ",
        "outputId": "176c11fd-35de-4a25-af87-12d540063352"
      },
      "source": [
        "\n",
        "\n",
        "plt.rcParams['figure.figsize'] = [8,4]\n",
        "\n",
        "\n",
        "plt.scatter(X_train, y_train, color='red')\n",
        "plt.xlabel(\"BMI\")\n",
        "plt.ylabel(\"Diabetes Risk\")"
      ],
      "execution_count": 6,
      "outputs": [
        {
          "output_type": "execute_result",
          "data": {
            "text/plain": [
              "Text(0, 0.5, 'Diabetes Risk')"
            ]
          },
          "metadata": {},
          "execution_count": 6
        },
        {
          "output_type": "display_data",
          "data": {
            "image/png": "[encoded data removed]",
            "text/plain": [
              "<Figure size 576x288 with 1 Axes>"
            ]
          },
          "metadata": {
            "needs_background": "light"
          }
        }
      ]
    },
    {
      "cell_type": "code",
      "metadata": {
        "colab": {
          "base_uri": "https://localhost:8080/",
          "height": 265
        },
        "id": "qQt5BVLFI8GK",
        "outputId": "08c6092d-9ce4-4ddc-c0ae-9694e192405c"
      },
      "source": [
        "theta_list = [(1,2),(1,0),(2,1),(0,1)]\n",
        "for theta0, theta1 in theta_list:\n",
        "  x = np.arange(10)\n",
        "  y = theta1 * x + theta0 \n",
        "  plt.plot(x,y)"
      ],
      "execution_count": 7,
      "outputs": [
        {
          "output_type": "display_data",
          "data": {
            "image/png": "[encoded data removed]",
            "text/plain": [
              "<Figure size 576x288 with 1 Axes>"
            ]
          },
          "metadata": {
            "needs_background": "light"
          }
        }
      ]
    },
    {
      "cell_type": "code",
      "metadata": {
        "id": "WcsvUY2DQrG9"
      },
      "source": [
        "X_train = torch.from_numpy(X_train.to_numpy().astype(np.float32))\n",
        "y_train = torch.from_numpy(y_train.to_numpy().astype(np.float32)) \n",
        "y_train = y_train.view(y_train.shape[0], 1)"
      ],
      "execution_count": 8,
      "outputs": []
    },
    {
      "cell_type": "code",
      "metadata": {
        "id": "bMBS1KEMQ0IF"
      },
      "source": [
        "n_samples, n_features = X_train.shape \n",
        "input_size = n_features "
      ],
      "execution_count": 9,
      "outputs": []
    },
    {
      "cell_type": "code",
      "metadata": {
        "id": "QSGkx8fZRZzc"
      },
      "source": [
        "output_size = 1"
      ],
      "execution_count": 10,
      "outputs": []
    },
    {
      "cell_type": "code",
      "metadata": {
        "id": "lGfTJIQoRg-F"
      },
      "source": [
        "model = nn.Linear(input_size, out_features=output_size)"
      ],
      "execution_count": 11,
      "outputs": []
    },
    {
      "cell_type": "code",
      "metadata": {
        "id": "guWK7RV_RbrY"
      },
      "source": [
        "criterion = nn.MSELoss()\n",
        "\n",
        "learning_rate = 0.03\n",
        "optimizer = torch.optim.SGD(model.parameters(), lr=learning_rate)"
      ],
      "execution_count": 12,
      "outputs": []
    },
    {
      "cell_type": "code",
      "metadata": {
        "colab": {
          "base_uri": "https://localhost:8080/",
          "height": 805
        },
        "id": "LfIPUB9MReBf",
        "outputId": "1319395f-0b73-4ef5-e333-d8e63a5dd3cb"
      },
      "source": [
        "num_epochs = 30000\n",
        "for epoch in range(num_epochs): \n",
        "  y_pred = model(X_train)\n",
        "  loss = criterion(y_pred, y_train)\n",
        "\n",
        "  loss.backward()\n",
        "\n",
        "  optimizer.step()\n",
        "\n",
        "  optimizer.zero_grad()\n",
        "\n",
        "  if (epoch) % 1000 == 0 :\n",
        "    print(\"epoch : {} , loss= {}\".format(epoch, loss.item()))\n",
        "\n",
        "predicted = model(X_train).detach().numpy()\n",
        "plt.xlabel(\"BMI\")\n",
        "plt.ylabel(\"Diabetes Risk\")\n",
        "plt.plot(X_train, y_train, 'ro')\n",
        "plt.plot(X_train,predicted, 'b')\n",
        "plt.title(\"Train Set Results\")\n",
        "plt.show()\n"
      ],
      "execution_count": 13,
      "outputs": [
        {
          "output_type": "stream",
          "name": "stdout",
          "text": [
            "epoch : 0 , loss= 29214.751953125\n",
            "epoch : 1000 , loss= 5540.93212890625\n",
            "epoch : 2000 , loss= 5150.173828125\n",
            "epoch : 3000 , loss= 4852.357421875\n",
            "epoch : 4000 , loss= 4625.37646484375\n",
            "epoch : 5000 , loss= 4452.3837890625\n",
            "epoch : 6000 , loss= 4320.53759765625\n",
            "epoch : 7000 , loss= 4220.05078125\n",
            "epoch : 8000 , loss= 4143.46484375\n",
            "epoch : 9000 , loss= 4085.09521484375\n",
            "epoch : 10000 , loss= 4040.60888671875\n",
            "epoch : 11000 , loss= 4006.7041015625\n",
            "epoch : 12000 , loss= 3980.863037109375\n",
            "epoch : 13000 , loss= 3961.168701171875\n",
            "epoch : 14000 , loss= 3946.15869140625\n",
            "epoch : 15000 , loss= 3934.718017578125\n",
            "epoch : 16000 , loss= 3925.99951171875\n",
            "epoch : 17000 , loss= 3919.3544921875\n",
            "epoch : 18000 , loss= 3914.2900390625\n",
            "epoch : 19000 , loss= 3910.429443359375\n",
            "epoch : 20000 , loss= 3907.4873046875\n",
            "epoch : 21000 , loss= 3905.245361328125\n",
            "epoch : 22000 , loss= 3903.53662109375\n",
            "epoch : 23000 , loss= 3902.23388671875\n",
            "epoch : 24000 , loss= 3901.241455078125\n",
            "epoch : 25000 , loss= 3900.485595703125\n",
            "epoch : 26000 , loss= 3899.908203125\n",
            "epoch : 27000 , loss= 3899.468994140625\n",
            "epoch : 28000 , loss= 3899.134033203125\n",
            "epoch : 29000 , loss= 3898.87890625\n"
          ]
        },
        {
          "output_type": "display_data",
          "data": {
            "image/png": "[encoded data removed]",
            "text/plain": [
              "<Figure size 576x288 with 1 Axes>"
            ]
          },
          "metadata": {
            "needs_background": "light"
          }
        }
      ]
    },
    {
      "cell_type": "code",
      "metadata": {
        "colab": {
          "base_uri": "https://localhost:8080/"
        },
        "id": "JYjMdZ8XRyVX",
        "outputId": "6d41b789-4a2a-481a-ced2-d55c612b0239"
      },
      "source": [
        "theta1 = model.weight.item()\n",
        "theta0 = model.bias.item()\n",
        "print(\"Slope (theta1): {}\".format(theta1))\n",
        "print(\"Bias (theta0) :{}\".format(theta0))\n"
      ],
      "execution_count": 14,
      "outputs": [
        {
          "output_type": "stream",
          "name": "stdout",
          "text": [
            "Slope (theta1): 958.8073120117188\n",
            "Bias (theta0) :150.2086944580078\n"
          ]
        }
      ]
    },
    {
      "cell_type": "code",
      "metadata": {
        "colab": {
          "base_uri": "https://localhost:8080/"
        },
        "id": "GqeJlBzDlzdg",
        "outputId": "2ea564c5-0666-4090-91b1-2e4bd1b2ff33"
      },
      "source": [
        "y_test_pred = model(torch.from_numpy(X_test.to_numpy().astype('float32'))).data.numpy()\n",
        "y_test_pred.shape"
      ],
      "execution_count": 15,
      "outputs": [
        {
          "output_type": "execute_result",
          "data": {
            "text/plain": [
              "(148, 1)"
            ]
          },
          "metadata": {},
          "execution_count": 15
        }
      ]
    },
    {
      "cell_type": "code",
      "metadata": {
        "id": "GMP0SLRGbkhn",
        "colab": {
          "base_uri": "https://localhost:8080/",
          "height": 295
        },
        "outputId": "c64724d5-5eb9-4fe9-846c-624df28333df"
      },
      "source": [
        "plt.xlabel(\"BMI\")\n",
        "plt.ylabel(\"Diabetes Risk\")\n",
        "plt.scatter(X_test, y_test)\n",
        "plt.plot(X_test, y_test_pred, color='red')\n",
        "plt.title(\"Test Set Results\")\n",
        "plt.show()"
      ],
      "execution_count": 16,
      "outputs": [
        {
          "output_type": "display_data",
          "data": {
            "image/png": "[encoded data removed]",
            "text/plain": [
              "<Figure size 576x288 with 1 Axes>"
            ]
          },
          "metadata": {
            "needs_background": "light"
          }
        }
      ]
    },
    {
      "cell_type": "code",
      "metadata": {
        "id": "OAJpIggxj6xG"
      },
      "source": [
        ""
      ],
      "execution_count": 16,
      "outputs": []
    }
  ]
}