{
  "nbformat": 4,
  "nbformat_minor": 0,
  "metadata": {
    "colab": {
      "name": "02-Linear Regression Demo.ipynb",
      "provenance": [],
      "collapsed_sections": [],
      "authorship_tag": "ABX9TyMlpwuO4hxP5Ksdb7xUIg2f",
      "include_colab_link": true
    },
    "kernelspec": {
      "name": "python3",
      "display_name": "Python 3"
    },
    "language_info": {
      "name": "python"
    }
  },
  "cells": [
    {
      "cell_type": "markdown",
      "metadata": {
        "id": "view-in-github",
        "colab_type": "text"
      },
      "source": [
        "<a href=\"https://colab.research.google.com/github/bharaniabhishek123/ML-Introduction/blob/main/02_Linear_Regression_Demo.ipynb\" target=\"_parent\"><img src=\"https://colab.research.google.com/assets/colab-badge.svg\" alt=\"Open In Colab\"/></a>"
      ]
    },
    {
      "cell_type": "markdown",
      "metadata": {
        "id": "4F_O8k8uPvyd"
      },
      "source": [
        "## Linear Regression\n",
        "\n",
        "## Linear Regression is an approach that tries to find a linear relationship between a dependent variable and an independent variable by minimizing the distance as shown below.\n",
        "Linear Regression is a statistical method that allows us to summarize and study relationships between a target variable (also known as dependent variable) on one or more predictors (also known as independent variables).\n",
        "The objective is to estimate and/or predict the mean value of the dependent variable (continuous) on the basis of the known values of the independent variables. And try to minimize the error as much as possible.\n",
        "\n",
        "In statistics, linear regression is a linear approach to modelling the relationship between a scalar response and one or more explanatory variables (also known as dependent and independent variables)."
      ]
    },
    {
      "cell_type": "markdown",
      "metadata": {
        "id": "l7WftgI7Ju-l"
      },
      "source": [
        "## Update the sklearn version to latest one on google colab; "
      ]
    },
    {
      "cell_type": "code",
      "metadata": {
        "colab": {
          "base_uri": "https://localhost:8080/"
        },
        "id": "hwwj3MB9GZ1A",
        "outputId": "38c4cc7e-a12d-49e7-ae1b-3eeaa7357438"
      },
      "source": [
        "!pip uninstall scikit-learn -y\n",
        "\n",
        "!pip install -U scikit-learn"
      ],
      "execution_count": null,
      "outputs": [
        {
          "output_type": "stream",
          "name": "stdout",
          "text": [
            "Found existing installation: scikit-learn 1.0\n",
            "Uninstalling scikit-learn-1.0:\n",
            "  Successfully uninstalled scikit-learn-1.0\n",
            "Collecting scikit-learn\n",
            "  Using cached scikit_learn-1.0-cp37-cp37m-manylinux_2_12_x86_64.manylinux2010_x86_64.whl (23.1 MB)\n",
            "Requirement already satisfied: numpy>=1.14.6 in /usr/local/lib/python3.7/dist-packages (from scikit-learn) (1.19.5)\n",
            "Requirement already satisfied: threadpoolctl>=2.0.0 in /usr/local/lib/python3.7/dist-packages (from scikit-learn) (2.2.0)\n",
            "Requirement already satisfied: joblib>=0.11 in /usr/local/lib/python3.7/dist-packages (from scikit-learn) (1.0.1)\n",
            "Requirement already satisfied: scipy>=1.1.0 in /usr/local/lib/python3.7/dist-packages (from scikit-learn) (1.4.1)\n",
            "Installing collected packages: scikit-learn\n",
            "Successfully installed scikit-learn-1.0\n"
          ]
        }
      ]
    },
    {
      "cell_type": "markdown",
      "metadata": {
        "id": "FsW4mpXVJ3hG"
      },
      "source": [
        "# Note: Please restart the runtime : Runtime >> **Restart runtime** and make sure we are on version 1.0 by executing below cell"
      ]
    },
    {
      "cell_type": "code",
      "metadata": {
        "colab": {
          "base_uri": "https://localhost:8080/",
          "height": 35
        },
        "id": "Uk-Q5PR8KC72",
        "outputId": "b113c10e-5de7-4538-de78-be45265ac7a2"
      },
      "source": [
        "import sklearn\n",
        "\n",
        "sklearn.__version__ "
      ],
      "execution_count": null,
      "outputs": [
        {
          "output_type": "execute_result",
          "data": {
            "application/vnd.google.colaboratory.intrinsic+json": {
              "type": "string"
            },
            "text/plain": [
              "'1.0'"
            ]
          },
          "metadata": {},
          "execution_count": 2
        }
      ]
    },
    {
      "cell_type": "markdown",
      "metadata": {
        "id": "awo-24xTHBgv"
      },
      "source": [
        "#1. Dataset \n",
        "\n",
        "In this exercise we will use UCI Diabetes Dataset, just to play around with Linear and Logistic regression models.\n",
        "\n",
        "For each patient we have the body mass index(BMI) and a risk of diabetes (score from 0-300) \n",
        "\n",
        "Our goal is to find how BMI affects an individual's diabetes risk."
      ]
    },
    {
      "cell_type": "code",
      "metadata": {
        "id": "9Sf0Y-VtIKOh"
      },
      "source": [
        "from sklearn import datasets \n",
        "import pandas as pd \n",
        "import numpy as np\n",
        "from sklearn.model_selection import train_test_split\n",
        "\n",
        "%matplotlib inline\n",
        "\n",
        "import matplotlib.pyplot as plt\n",
        "\n",
        "import torch \n",
        "import torch.nn as nn \n",
        "\n",
        "\n",
        "# Load the dataset \n",
        "X, y = datasets.load_diabetes(return_X_y=True, as_frame=True)\n",
        "\n",
        "# using only 1 feature bmi\n",
        "X = X.loc[:, ['bmi']] \n",
        "\n"
      ],
      "execution_count": null,
      "outputs": []
    },
    {
      "cell_type": "markdown",
      "metadata": {
        "id": "KyEuD31QjYba"
      },
      "source": [
        "## Split the dataset into training set and test test"
      ]
    },
    {
      "cell_type": "code",
      "metadata": {
        "colab": {
          "base_uri": "https://localhost:8080/"
        },
        "id": "JYNK6-EqjW3l",
        "outputId": "2c3ed795-b97e-48e6-ff6f-da2b1c806476"
      },
      "source": [
        "X_train, X_test, y_train, y_test = train_test_split(X, y, test_size=1/3, random_state=42)\n",
        "print(f'x_train.shape={X_train.shape} x_test.shape={X_test.shape} y_train.shape={y_train.shape} y_test.shape={y_test.shape}')"
      ],
      "execution_count": null,
      "outputs": [
        {
          "output_type": "stream",
          "name": "stdout",
          "text": [
            "x_train.shape=(294, 1) x_test.shape=(148, 1) y_train.shape=(294,) y_test.shape=(148,)\n"
          ]
        }
      ]
    },
    {
      "cell_type": "code",
      "metadata": {
        "colab": {
          "base_uri": "https://localhost:8080/",
          "height": 204
        },
        "id": "FqUtYMhZjW6U",
        "outputId": "0212de3b-2b60-4145-d06b-a34f66154621"
      },
      "source": [
        "# Display points\n",
        "pd.concat([X_train, y_train], axis=1).head()"
      ],
      "execution_count": null,
      "outputs": [
        {
          "output_type": "execute_result",
          "data": {
            "text/html": [
              "<div>\n",
              "<style scoped>\n",
              "    .dataframe tbody tr th:only-of-type {\n",
              "        vertical-align: middle;\n",
              "    }\n",
              "\n",
              "    .dataframe tbody tr th {\n",
              "        vertical-align: top;\n",
              "    }\n",
              "\n",
              "    .dataframe thead th {\n",
              "        text-align: right;\n",
              "    }\n",
              "</style>\n",
              "<table border=\"1\" class=\"dataframe\">\n",
              "  <thead>\n",
              "    <tr style=\"text-align: right;\">\n",
              "      <th></th>\n",
              "      <th>bmi</th>\n",
              "      <th>target</th>\n",
              "    </tr>\n",
              "  </thead>\n",
              "  <tbody>\n",
              "    <tr>\n",
              "      <th>193</th>\n",
              "      <td>-0.005128</td>\n",
              "      <td>116.0</td>\n",
              "    </tr>\n",
              "    <tr>\n",
              "      <th>109</th>\n",
              "      <td>-0.009439</td>\n",
              "      <td>81.0</td>\n",
              "    </tr>\n",
              "    <tr>\n",
              "      <th>195</th>\n",
              "      <td>0.025051</td>\n",
              "      <td>122.0</td>\n",
              "    </tr>\n",
              "    <tr>\n",
              "      <th>145</th>\n",
              "      <td>0.128521</td>\n",
              "      <td>259.0</td>\n",
              "    </tr>\n",
              "    <tr>\n",
              "      <th>210</th>\n",
              "      <td>0.014272</td>\n",
              "      <td>191.0</td>\n",
              "    </tr>\n",
              "  </tbody>\n",
              "</table>\n",
              "</div>"
            ],
            "text/plain": [
              "          bmi  target\n",
              "193 -0.005128   116.0\n",
              "109 -0.009439    81.0\n",
              "195  0.025051   122.0\n",
              "145  0.128521   259.0\n",
              "210  0.014272   191.0"
            ]
          },
          "metadata": {},
          "execution_count": 5
        }
      ]
    },
    {
      "cell_type": "code",
      "metadata": {
        "colab": {
          "base_uri": "https://localhost:8080/",
          "height": 296
        },
        "id": "CKAEIvkcIpfQ",
        "outputId": "0a959629-1b11-40db-8f27-e168e33f836d"
      },
      "source": [
        "\n",
        "\n",
        "plt.rcParams['figure.figsize'] = [8,4]\n",
        "\n",
        "\n",
        "plt.scatter(X_train, y_train, color='red')\n",
        "plt.xlabel(\"BMI\")\n",
        "plt.ylabel(\"Diabetes Risk\")"
      ],
      "execution_count": null,
      "outputs": [
        {
          "output_type": "execute_result",
          "data": {
            "text/plain": [
              "Text(0, 0.5, 'Diabetes Risk')"
            ]
          },
          "metadata": {},
          "execution_count": 6
        },
        {
          "output_type": "display_data",
          "data": {
            "image/png": "[encoded data removed]",
            "text/plain": [
              "<Figure size 576x288 with 1 Axes>"
            ]
          },
          "metadata": {
            "needs_background": "light"
          }
        }
      ]
    },
    {
      "cell_type": "code",
      "metadata": {
        "colab": {
          "base_uri": "https://localhost:8080/",
          "height": 265
        },
        "id": "qQt5BVLFI8GK",
        "outputId": "1865d375-3d83-4591-803c-9694a4aa6026"
      },
      "source": [
        "theta_list = [(1,2),(1,0),(2,1),(0,1)]\n",
        "for theta0, theta1 in theta_list:\n",
        "  x = np.arange(10)\n",
        "  y = theta1 * x + theta0 \n",
        "  plt.plot(x,y)"
      ],
      "execution_count": null,
      "outputs": [
        {
          "output_type": "display_data",
          "data": {
            "image/png": "[encoded data removed]",
            "text/plain": [
              "<Figure size 576x288 with 1 Axes>"
            ]
          },
          "metadata": {
            "needs_background": "light"
          }
        }
      ]
    },
    {
      "cell_type": "code",
      "metadata": {
        "colab": {
          "base_uri": "https://localhost:8080/"
        },
        "id": "3PzlLr183GHM",
        "outputId": "6f6469c5-37f7-4406-9aa9-cd5be0dc0d93"
      },
      "source": [
        "from sklearn import linear_model\n",
        "from sklearn.metrics import mean_squared_error\n",
        "\n",
        "\n",
        "regr = linear_model.LinearRegression()\n",
        "\n",
        "regr.fit(X_train, y_train.values)\n",
        "\n",
        "y_pred = regr.predict(X_train)\n",
        "\n",
        "print(\"Slope (theta1): {}\".format(regr.coef_[0]))\n",
        "print(\"Bias (theta0) :{}\".format(regr.intercept_))"
      ],
      "execution_count": null,
      "outputs": [
        {
          "output_type": "stream",
          "name": "stdout",
          "text": [
            "Slope (theta1): 975.4044466267671\n",
            "Bias (theta0) :150.18032239829225\n"
          ]
        }
      ]
    },
    {
      "cell_type": "code",
      "metadata": {
        "colab": {
          "base_uri": "https://localhost:8080/",
          "height": 279
        },
        "id": "Wt95tjGr3GKJ",
        "outputId": "55a76604-1321-4f36-8401-e0f4ec8cf2f3"
      },
      "source": [
        "plt.xlabel(\"BMI\")\n",
        "plt.ylabel(\"Diabetes Risk\")\n",
        "\n",
        "plt.scatter(X_train, y_train)\n",
        "\n",
        "plt.plot(X_train,y_pred, 'b')\n",
        "plt.show()"
      ],
      "execution_count": null,
      "outputs": [
        {
          "output_type": "display_data",
          "data": {
            "image/png": "[encoded data removed]",
            "text/plain": [
              "<Figure size 576x288 with 1 Axes>"
            ]
          },
          "metadata": {
            "needs_background": "light"
          }
        }
      ]
    },
    {
      "cell_type": "code",
      "metadata": {
        "colab": {
          "base_uri": "https://localhost:8080/",
          "height": 296
        },
        "id": "MnRZDcNT9cZw",
        "outputId": "9870d993-d413-4500-f238-c8232985fb15"
      },
      "source": [
        "# Model prediction on Test Set \n",
        "\n",
        "y_test_pred = regr.predict(X_test) \n",
        "\n",
        "plt.xlabel(\"BMI\")\n",
        "plt.ylabel(\"Diabetes Risk\")\n",
        "\n",
        "plt.scatter(X_train[:20], y_train[:20])\n",
        "plt.scatter(X_test[:20], y_test[:20], color='red', marker='o')\n",
        "plt.plot(X_train[:20], y_pred[:20], color='black') \n",
        "plt.plot(X_test[:20], y_test_pred[:20], 'x', color='red')\n",
        "plt.legend(['Model','Prediction', 'Prev Patients', 'New Patient (Test)' ])"
      ],
      "execution_count": null,
      "outputs": [
        {
          "output_type": "execute_result",
          "data": {
            "text/plain": [
              "<matplotlib.legend.Legend at 0x7f4a3f643e50>"
            ]
          },
          "metadata": {},
          "execution_count": 10
        },
        {
          "output_type": "display_data",
          "data": {
            "image/png": "[encoded data removed]",
            "text/plain": [
              "<Figure size 576x288 with 1 Axes>"
            ]
          },
          "metadata": {
            "needs_background": "light"
          }
        }
      ]
    },
    {
      "cell_type": "markdown",
      "metadata": {
        "id": "LObjY_wRq1iV"
      },
      "source": [
        "## Logistic Regression"
      ]
    },
    {
      "cell_type": "markdown",
      "metadata": {
        "id": "PiVb-i_aq1lO"
      },
      "source": [
        "### We can convert the earlier problem into a classification by predicting the value as low diabetes score or high diabetes score \n",
        "\n",
        "\n",
        "for e.g. let's say the score is 250 then it is high but it is 120 it is low. Let's choose a threshold of 150."
      ]
    },
    {
      "cell_type": "code",
      "metadata": {
        "colab": {
          "base_uri": "https://localhost:8080/",
          "height": 282
        },
        "id": "5nMQx73lrPiV",
        "outputId": "6ef794cf-b925-4026-f7e8-051e9b903c3b"
      },
      "source": [
        "y_train_discrete = np.digitize(y_train, bins=[150])\n",
        "\n",
        "# Plot the high/low \n",
        "plt.scatter(X_train[y_train_discrete==0], y_train[y_train_discrete==0])\n",
        "plt.scatter(X_train[y_train_discrete==1], y_train[y_train_discrete==1])\n",
        "plt.legend([\"Low Risk Diabetes\", \"High Risk Diabetes\"])"
      ],
      "execution_count": null,
      "outputs": [
        {
          "output_type": "execute_result",
          "data": {
            "text/plain": [
              "<matplotlib.legend.Legend at 0x7f4a3f5da210>"
            ]
          },
          "metadata": {},
          "execution_count": 11
        },
        {
          "output_type": "display_data",
          "data": {
            "image/png": "[encoded data removed]",
            "text/plain": [
              "<Figure size 576x288 with 1 Axes>"
            ]
          },
          "metadata": {
            "needs_background": "light"
          }
        }
      ]
    },
    {
      "cell_type": "code",
      "metadata": {
        "id": "3KzxZrv9tCnX"
      },
      "source": [
        "clf = linear_model.LogisticRegression()\n",
        "\n",
        "clf.fit(X_train, y_train_discrete)\n",
        "\n",
        "y_train_pred_discrete = clf.predict(X_train)"
      ],
      "execution_count": null,
      "outputs": []
    },
    {
      "cell_type": "code",
      "metadata": {
        "id": "l_U0a4hrwz8H"
      },
      "source": [
        ""
      ],
      "execution_count": null,
      "outputs": []
    }
  ]
}